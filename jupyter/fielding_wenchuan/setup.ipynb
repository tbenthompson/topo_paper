{
 "cells": [
  {
   "cell_type": "code",
   "execution_count": 1,
   "metadata": {},
   "outputs": [
    {
     "name": "stdout",
     "output_type": "stream",
     "text": [
      "RefactoringTool: Skipping optional fixer: buffer\n",
      "RefactoringTool: Skipping optional fixer: idioms\n",
      "RefactoringTool: Skipping optional fixer: set_literal\n",
      "RefactoringTool: Skipping optional fixer: ws_comma\n",
      "RefactoringTool: Refactored ReadsrcmodCleaner.py\n",
      "--- ReadsrcmodCleaner.py\t(original)\n",
      "+++ ReadsrcmodCleaner.py\t(refactored)\n",
      "@@ -236,7 +236,7 @@\n",
      "     # Remap tags to src_mod output.\n",
      "     for in_name, out_name in TAG_MAP:\n",
      "       if in_name not in tags:\n",
      "-        print('error', in_name, tags)\n",
      "+        print(('error', in_name, tags))\n",
      "         continue\n",
      "       src_mod[out_name] = tags[in_name]\n",
      " \n",
      "@@ -244,7 +244,7 @@\n",
      "     fields = _FindFields(data)\n",
      "     for in_name, out_name in FIELD_MAP:\n",
      "       if in_name not in fields:\n",
      "-        print('error', in_name, fields)\n",
      "+        print(('error', in_name, fields))\n",
      "         continue\n",
      "       src_mod[out_name] = fields[in_name]\n",
      " \n",
      "@@ -434,11 +434,11 @@\n",
      "           v4 = [src_mod['x4Utm'][-1].tolist()[0], src_mod['y4Utm'][-1].tolist()[0], src_mod['z4Utm'][-1]]\n",
      "           if np.abs(KM2M*length*KM2M*width-poly_area([v1, v2, v4, v3]))>0.05*poly_area([v1, v2, v4, v3]): # check these areas are within 100000 sq meters of each other\n",
      "               print('patch area, defined by width and length, is not within 5% of size of actual patch size.')\n",
      "-              print('width*length = ' + str(KM2M*length*KM2M*width) + ' square meters')\n",
      "-              print('area of true patch = ' + str(poly_area([v1, v2, v4, v3])) + '. This is a difference of: ' + str(np.abs(KM2M*length*KM2M*width-poly_area([v1, v2, v4, v3]))) + '.')\n",
      "+              print(('width*length = ' + str(KM2M*length*KM2M*width) + ' square meters'))\n",
      "+              print(('area of true patch = ' + str(poly_area([v1, v2, v4, v3])) + '. This is a difference of: ' + str(np.abs(KM2M*length*KM2M*width-poly_area([v1, v2, v4, v3]))) + '.'))\n",
      "               assert False\n",
      " \n",
      "-    print('total number of segments processed: ' + str(num_segments))\n",
      "+    print(('total number of segments processed: ' + str(num_segments)))\n",
      "     src_mod['headerstrike'] = fields['STRK']\n",
      " \n",
      "     # get weights for averaging rake, dip, and strike\n",
      "@@ -474,7 +474,7 @@\n",
      "     if p == len(src_mod['rake']):\n",
      "         src_mod['rake'] = np.ones(np.shape(src_mod['rake']))*src_mod['headerrake']\n",
      "         print('!!!!!!!!!!!!!!!!!!!!!!!!!!!!!!!!!!!!!!!!!!!!!!!!!!!!!!!!!!!!!!!!!!!!!!!!!!!!')\n",
      "-        print('NOTE: Substituting header rake (' + str(src_mod['headerrake']) + ' degrees) for all patch rakes because the author of this slip distribution was LAZY and did not add them to each patch...')\n",
      "+        print(('NOTE: Substituting header rake (' + str(src_mod['headerrake']) + ' degrees) for all patch rakes because the author of this slip distribution was LAZY and did not add them to each patch...'))\n",
      "         print('!!!!!!!!!!!!!!!!!!!!!!!!!!!!!!!!!!!!!!!!!!!!!!!!!!!!!!!!!!!!!!!!!!!!!!!!!!!!\\n')\n",
      " \n",
      "     #process rakes as we did for strikes and dips above to get mean rake\n",
      "RefactoringTool: Files that were modified:\n",
      "RefactoringTool: ReadsrcmodCleaner.py\n"
     ]
    }
   ],
   "source": [
    "!2to3 -w ReadsrcmodCleaner.py"
   ]
  },
  {
   "cell_type": "code",
   "execution_count": 1,
   "metadata": {},
   "outputs": [
    {
     "name": "stdout",
     "output_type": "stream",
     "text": [
      "--2018-04-06 02:12:23--  http://equake-rc.info/media/srcmod/_fsp_files/s2008WENCHU02FIEL.fsp\n",
      "Resolving equake-rc.info (equake-rc.info)... 185.20.50.107\n",
      "Connecting to equake-rc.info (equake-rc.info)|185.20.50.107|:80... connected.\n",
      "HTTP request sent, awaiting response... 200 OK\n",
      "Length: 33863 (33K) [text/plain]\n",
      "Saving to: ‘s2008WENCHU02FIEL.fsp’\n",
      "\n",
      "100%[======================================>] 33,863      --.-K/s   in 0.08s   \n",
      "\n",
      "2018-04-06 02:12:23 (427 KB/s) - ‘s2008WENCHU02FIEL.fsp’ saved [33863/33863]\n",
      "\n"
     ]
    }
   ],
   "source": [
    "!wget http://equake-rc.info/media/srcmod/_fsp_files/s2008WENCHU02FIEL.fsp"
   ]
  },
  {
   "cell_type": "code",
   "execution_count": 7,
   "metadata": {},
   "outputs": [
    {
     "name": "stdout",
     "output_type": "stream",
     "text": [
      "Collecting utm\n",
      "  Downloading utm-0.4.2.tar.gz\n",
      "Building wheels for collected packages: utm\n",
      "  Running setup.py bdist_wheel for utm ... \u001b[?25ldone\n",
      "\u001b[?25h  Stored in directory: /home/tthompson/.cache/pip/wheels/18/f5/d5/7ed9ab14cc72ab038bdd0eab3c16476030cd17d692f2468b1a\n",
      "Successfully built utm\n",
      "Installing collected packages: utm\n",
      "Successfully installed utm-0.4.2\n"
     ]
    }
   ],
   "source": [
    "!pip install utm"
   ]
  }
 ],
 "metadata": {
  "kernelspec": {
   "display_name": "Python 3",
   "language": "python",
   "name": "python3"
  },
  "language_info": {
   "codemirror_mode": {
    "name": "ipython",
    "version": 3
   },
   "file_extension": ".py",
   "mimetype": "text/x-python",
   "name": "python",
   "nbconvert_exporter": "python",
   "pygments_lexer": "ipython3",
   "version": "3.6.0"
  }
 },
 "nbformat": 4,
 "nbformat_minor": 2
}
