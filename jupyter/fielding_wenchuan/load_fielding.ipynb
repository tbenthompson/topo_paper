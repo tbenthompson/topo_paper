{
 "cells": [
  {
   "cell_type": "code",
   "execution_count": 1,
   "metadata": {},
   "outputs": [],
   "source": [
    "%load_ext autoreload\n",
    "%autoreload 2"
   ]
  },
  {
   "cell_type": "code",
   "execution_count": 29,
   "metadata": {},
   "outputs": [],
   "source": [
    "import numpy as np\n",
    "\n",
    "from ReadsrcmodCleaner import ReadSrcmodFile"
   ]
  },
  {
   "cell_type": "code",
   "execution_count": 3,
   "metadata": {},
   "outputs": [
    {
     "name": "stdout",
     "output_type": "stream",
     "text": [
      "total number of segments processed: 5\n"
     ]
    }
   ],
   "source": [
    "data = ReadSrcmodFile('s2008WENCHU02FIEL.fsp', './')"
   ]
  },
  {
   "cell_type": "code",
   "execution_count": 5,
   "metadata": {},
   "outputs": [
    {
     "data": {
      "text/plain": [
       "dict_keys(['date', 'datetime', 'areaTotal', 'tag', 'description', 'epicenterLatitude', 'epicenterLongitude', 'depth', 'magnitude', 'moment', 'zoneNumber', 'zoneLetter', 'projEpicenter', 'epicenterXUtm', 'epicenterYUtm', 'patchLongitude', 'patchLatitude', 'x1', 'y1', 'z1', 'x2', 'y2', 'z2', 'x3', 'y3', 'z3', 'x4', 'y4', 'z4', 'patchXUtm', 'patchYUtm', 'x1Utm', 'y1Utm', 'z1Utm', 'x2Utm', 'y2Utm', 'z2Utm', 'x3Utm', 'y3Utm', 'z3Utm', 'x4Utm', 'y4Utm', 'z4Utm', 'dip', 'strike', 'rake', 'angle', 'width', 'length', 'slip', 'headerstrike', 'weights', 'dipMean', 'strikeMean', 'headerrake', 'rakeMean', 'slipStrike', 'slipDip'])"
      ]
     },
     "execution_count": 5,
     "metadata": {},
     "output_type": "execute_result"
    }
   ],
   "source": [
    "data.keys()"
   ]
  },
  {
   "cell_type": "code",
   "execution_count": 39,
   "metadata": {},
   "outputs": [],
   "source": [
    "area = np.array(data['width']) * np.array(data['length'])\n",
    "potency = area * np.array(data['slip'])\n",
    "mu = 3e10\n",
    "moment = potency * mu"
   ]
  },
  {
   "cell_type": "code",
   "execution_count": 66,
   "metadata": {},
   "outputs": [],
   "source": [
    "z1 = np.array(data['z1'])\n",
    "z3 = np.array(data['z3'])"
   ]
  },
  {
   "cell_type": "code",
   "execution_count": 75,
   "metadata": {},
   "outputs": [],
   "source": [
    "smootheddepths = np.tile(np.linspace(0, 1, 10), (z3.shape[0], 1)) * (z3 - z1)[:,np.newaxis] + z1[:, np.newaxis]\n",
    "smoothedmoment = np.tile(moment, (10, 1)).T / 10.\n",
    "np.save('fielding_moment_depth.npy', [smootheddepths.flatten(), smoothedmoment.flatten()])"
   ]
  },
  {
   "cell_type": "code",
   "execution_count": 68,
   "metadata": {},
   "outputs": [
    {
     "name": "stdout",
     "output_type": "stream",
     "text": [
      "50% of moment above:  11148.0303426\n"
     ]
    }
   ],
   "source": [
    "print('50% of moment above: ', np.sum(smootheddepths * smoothedmoment) / np.sum(smoothedmoment))"
   ]
  }
 ],
 "metadata": {
  "kernelspec": {
   "display_name": "Python 3",
   "language": "python",
   "name": "python3"
  },
  "language_info": {
   "codemirror_mode": {
    "name": "ipython",
    "version": 3
   },
   "file_extension": ".py",
   "mimetype": "text/x-python",
   "name": "python",
   "nbconvert_exporter": "python",
   "pygments_lexer": "ipython3",
   "version": "3.6.0"
  }
 },
 "nbformat": 4,
 "nbformat_minor": 2
}
