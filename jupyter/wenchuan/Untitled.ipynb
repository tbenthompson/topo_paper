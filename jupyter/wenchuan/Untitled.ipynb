{
 "cells": [
  {
   "cell_type": "code",
   "execution_count": 6,
   "metadata": {},
   "outputs": [],
   "source": [
    "import os\n",
    "import sys\n",
    "import gdal\n",
    "import numpy as np\n",
    "import matplotlib.pyplot as plt\n",
    "import matplotlib.tri as tri\n",
    "import scipy.interpolate"
   ]
  },
  {
   "cell_type": "code",
   "execution_count": 7,
   "metadata": {},
   "outputs": [
    {
     "ename": "AttributeError",
     "evalue": "'NoneType' object has no attribute 'ReadAsArray'",
     "output_type": "error",
     "traceback": [
      "\u001b[0;31m---------------------------------------------------------------------------\u001b[0m",
      "\u001b[0;31mAttributeError\u001b[0m                            Traceback (most recent call last)",
      "\u001b[0;32m<ipython-input-7-ccf8a65ba8b8>\u001b[0m in \u001b[0;36m<module>\u001b[0;34m()\u001b[0m\n\u001b[1;32m      2\u001b[0m \u001b[0mfilebase\u001b[0m\u001b[0;34m,\u001b[0m \u001b[0mfileext\u001b[0m \u001b[0;34m=\u001b[0m \u001b[0mos\u001b[0m\u001b[0;34m.\u001b[0m\u001b[0mpath\u001b[0m\u001b[0;34m.\u001b[0m\u001b[0msplitext\u001b[0m\u001b[0;34m(\u001b[0m\u001b[0mfilename\u001b[0m\u001b[0;34m)\u001b[0m\u001b[0;34m\u001b[0m\u001b[0m\n\u001b[1;32m      3\u001b[0m \u001b[0mds\u001b[0m \u001b[0;34m=\u001b[0m \u001b[0mgdal\u001b[0m\u001b[0;34m.\u001b[0m\u001b[0mOpen\u001b[0m\u001b[0;34m(\u001b[0m\u001b[0mfilename\u001b[0m\u001b[0;34m)\u001b[0m\u001b[0;34m\u001b[0m\u001b[0m\n\u001b[0;32m----> 4\u001b[0;31m \u001b[0mdem\u001b[0m \u001b[0;34m=\u001b[0m \u001b[0mds\u001b[0m\u001b[0;34m.\u001b[0m\u001b[0mReadAsArray\u001b[0m\u001b[0;34m(\u001b[0m\u001b[0;34m)\u001b[0m\u001b[0;34m\u001b[0m\u001b[0m\n\u001b[0m\u001b[1;32m      5\u001b[0m \u001b[0;34m\u001b[0m\u001b[0m\n\u001b[1;32m      6\u001b[0m \u001b[0mmsk\u001b[0m \u001b[0;34m=\u001b[0m \u001b[0mdem\u001b[0m\u001b[0;34m==\u001b[0m\u001b[0;34m-\u001b[0m\u001b[0;36m9999\u001b[0m \u001b[0;31m# boolean array with True at elements to be masked\u001b[0m\u001b[0;34m\u001b[0m\u001b[0m\n",
      "\u001b[0;31mAttributeError\u001b[0m: 'NoneType' object has no attribute 'ReadAsArray'"
     ]
    }
   ],
   "source": [
    "filename = sys.argv[1]\n",
    "filebase, fileext = os.path.splitext(filename)\n",
    "ds = gdal.Open(filename)\n",
    "dem = ds.ReadAsArray()\n",
    "\n",
    "msk = dem==-9999 # boolean array with True at elements to be masked\n",
    "dem = np.ma.array(data=dem, mask=msk, fill_value=np.nan, dtype = np.float64)\n",
    "# plt.imshow(dem)\n",
    "# plt.show()\n",
    "\n",
    "width = ds.RasterXSize\n",
    "height = ds.RasterYSize\n",
    "print(width,height)\n",
    "gt = ds.GetGeoTransform()\n",
    "# minlon = gt[0]\n",
    "# maxlon = gt[0] + width * gt[1] + height * gt[2]\n",
    "# minlat = gt[3] + width * gt[4] + height * gt[5]\n",
    "# maxlat = gt[3]\n",
    "xs = np.linspace(0, width - 1, width)\n",
    "ys = np.linspace(0, height - 1, height)\n",
    "X, Y = np.meshgrid(xs, ys)\n",
    "lon = gt[0] + X * gt[1] + Y * gt[2]\n",
    "lat = gt[3] + X * gt[4] + Y * gt[5]\n",
    "\n",
    "assert(gt[2] == 0)\n",
    "assert(gt[4] == 0)\n",
    "\n",
    "minlat, minlon = 27.5, 100\n",
    "maxlat, maxlon = 36.5, 108\n",
    "n = int(sys.argv[2])\n",
    "expand = 0\n",
    "lons = np.linspace(minlon - expand, maxlon + expand, n)\n",
    "lats = np.linspace(minlat - expand, maxlat + expand, n)\n",
    "LON, LAT = np.meshgrid(lons, lats)\n",
    "\n",
    "DEM = scipy.interpolate.griddata(\n",
    "    (lon.flatten(), lat.flatten()), dem.flatten(),\n",
    "    (LON, LAT)\n",
    ")\n",
    "\n",
    "np.save('data/lonlatdem.npy', [LON, LAT, DEM])"
   ]
  },
  {
   "cell_type": "code",
   "execution_count": null,
   "metadata": {
    "collapsed": true
   },
   "outputs": [],
   "source": [
    " "
   ]
  }
 ],
 "metadata": {
  "kernelspec": {
   "display_name": "Python 3",
   "language": "python",
   "name": "python3"
  },
  "language_info": {
   "codemirror_mode": {
    "name": "ipython",
    "version": 3
   },
   "file_extension": ".py",
   "mimetype": "text/x-python",
   "name": "python",
   "nbconvert_exporter": "python",
   "pygments_lexer": "ipython3",
   "version": "3.6.0"
  }
 },
 "nbformat": 4,
 "nbformat_minor": 2
}
