{
 "cells": [
  {
   "cell_type": "code",
   "execution_count": null,
   "metadata": {
    "collapsed": true
   },
   "outputs": [],
   "source": [
    "# MOVE THIS TO SOME KIND OF TEST ELSEWHERE.\n",
    "\n",
    "T_op = SparseIntegralOp(\n",
    "    6, 2, 5, 2.0,\n",
    "    'elasticT3', [1.0, 0.25], m.pts, m.tris, np.float32,\n",
    "    farfield_op_type = FMMFarfieldBuilder(150, 3.0, 450)\n",
    ")\n",
    "A_op = SparseIntegralOp(\n",
    "    6, 2, 5, 2.0,\n",
    "    'elasticA3', [1.0, 0.25], m.pts, m.tris, np.float32,\n",
    "    farfield_op_type = FMMFarfieldBuilder(150, 3.0, 450)\n",
    ")\n",
    "# A is the transpose of T and mass_op is its own transpose.\n",
    "iop_T = SumOp([A_op, mass_op])\n",
    "\n",
    "A_near = sum([op.to_bsr().to_scipy() for op in A_op.nearfield.mat_no_correction])\n",
    "T_near = sum([op.to_bsr().to_scipy() for op in T_op.nearfield.mat_no_correction])\n",
    "\n",
    "A_near = A_near.tocsr()\n",
    "T_near = T_near.tocsr()\n",
    "\n",
    "np.set_printoptions(linewidth = 200)\n",
    "a, b = 0, 14\n",
    "rattt = np.round(A_near[a:b,a:b].todense() / T_near[a:b,a:b].T.todense(),1)\n",
    "small = np.where(np.abs(rattt) != 1)\n",
    "rattt, T_near[a:b,a:b].todense(), A_near[a:b,a:b].todense(), A_near[small], T_near.T[small]\n",
    "\n",
    "A_near[0:6,0:6].todense() - T_near.T[0:6,0:6].todense()\n",
    "\n",
    "which = np.zeros((100,100))\n",
    "which[np.where(np.abs((A_near[:100,:100] - T_near.T[:100,:100]).todense()) > 4e-2)] = 1\n",
    "which2 = np.zeros((100,100))\n",
    "which2[np.where(np.abs(A_near[:100,:100].todense()) > 1e-3)] = 1\n",
    "plt.figure(figsize = (10, 10))\n",
    "plt.subplot(121)\n",
    "plt.spy(which)\n",
    "plt.subplot(122)\n",
    "plt.spy(which2)\n",
    "plt.show()"
   ]
  }
 ],
 "metadata": {
  "kernelspec": {
   "display_name": "Python 3",
   "language": "python",
   "name": "python3"
  },
  "language_info": {
   "codemirror_mode": {
    "name": "ipython",
    "version": 3
   },
   "file_extension": ".py",
   "mimetype": "text/x-python",
   "name": "python",
   "nbconvert_exporter": "python",
   "pygments_lexer": "ipython3",
   "version": "3.6.0"
  }
 },
 "nbformat": 4,
 "nbformat_minor": 2
}
